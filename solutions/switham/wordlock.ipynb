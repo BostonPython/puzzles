{
 "metadata": {
  "name": ""
 },
 "nbformat": 3,
 "nbformat_minor": 0,
 "worksheets": [
  {
   "cells": [
    {
     "cell_type": "code",
     "collapsed": false,
     "input": [
      "import re\n",
      "try:\n",
      "    sum = __builtins__.sum\n",
      "except AttributeError:\n",
      "    sum = __builtins__[\"sum\"]\n",
      "\n",
      "RINGS = [ring.lower() for ring in 'BDMJPRSTLN', 'AEIOUYRTLH', 'ACDEORSTLN', 'DHKYRSTLNE']\n",
      "rx_string = \"^\" + \"\".join( (\"[\" + ring + \"]\" for ring in RINGS)) + \"$\"\n",
      "print rx_string\n",
      "rx = re.compile(rx_string)\n",
      "for s in \"BAAD\", \"BAAQ\", \"ABAAD\", \"baad\", \"baada\", \"abaad\":\n",
      "    if rx.match(s):\n",
      "        print s, \"YES\"\n",
      "    else:\n",
      "        print s, \"NO\"\n",
      "print\n"
     ],
     "language": "python",
     "metadata": {},
     "outputs": [
      {
       "output_type": "stream",
       "stream": "stdout",
       "text": [
        "^[bdmjprstln][aeiouyrtlh][acdeorstln][dhkyrstlne]$\n",
        "BAAD NO\n",
        "BAAQ NO\n",
        "ABAAD NO\n",
        "baad YES\n",
        "baada NO\n",
        "abaad NO\n",
        "\n"
       ]
      }
     ],
     "prompt_number": 40
    },
    {
     "cell_type": "code",
     "collapsed": false,
     "input": [
      "dictionary = (line.rstrip('\\n') for line in file(\"/usr/share/dict/words\", \"r\"))\n",
      "matchwords = [word for word in dictionary if rx.match(word)]\n",
      "\n",
      "print len(matchwords), \"matching words\"\n",
      "    "
     ],
     "language": "python",
     "metadata": {},
     "outputs": [
      {
       "output_type": "stream",
       "stream": "stdout",
       "text": [
        "1048 matching words\n"
       ]
      }
     ],
     "prompt_number": 42
    },
    {
     "cell_type": "code",
     "collapsed": false,
     "input": [
      "NUMDICTS = [ {letter: position for position, letter in enumerate(ring)}\n",
      "             for ring in RINGS ]\n",
      "\n",
      "def unique_key(s):\n",
      "    nums = [numdict[letter] for numdict, letter in zip(NUMDICTS, s)]\n",
      "    return tuple( (num - nums[0]) % len(RINGS[0]) for num in nums[1:] )\n",
      "    \n",
      "for word in \"baad\", \"bean\", \"salt\", \"noon\":\n",
      "    print word, unique_key(word)"
     ],
     "language": "python",
     "metadata": {},
     "outputs": [
      {
       "output_type": "stream",
       "stream": "stdout",
       "text": [
        "baad (0, 0, 0)\n",
        "bean (1, 0, 8)\n",
        "salt (4, 2, 0)\n",
        "noon (4, 5, 9)\n"
       ]
      }
     ],
     "prompt_number": 54
    },
    {
     "cell_type": "code",
     "collapsed": false,
     "input": [
      "from collections import defaultdict\n",
      "\n",
      "GROUPS = defaultdict(list)\n",
      "\n",
      "for word in matchwords:\n",
      "    GROUPS[unique_key(word)].append(word)\n",
      "    \n",
      "GROUPS_OF_3 = [words for key, words in GROUPS.iteritems() if len(words) == 3]\n",
      "\n",
      "print len(GROUPS), \"distinct groups of words\"\n",
      "print len(GROUPS_OF_3), \"groups of three words\""
     ],
     "language": "python",
     "metadata": {},
     "outputs": [
      {
       "output_type": "stream",
       "stream": "stdout",
       "text": [
        "699 distinct groups of words\n",
        "59 groups of three words\n"
       ]
      }
     ],
     "prompt_number": 46
    },
    {
     "cell_type": "code",
     "collapsed": false,
     "input": [
      "for words in GROUPS_OF_3:\n",
      "    print unique_key(words[0]), \"  \", \" \".join(words)"
     ],
     "language": "python",
     "metadata": {},
     "outputs": [
      {
       "output_type": "stream",
       "stream": "stdout",
       "text": [
        "(2, 8, 2)    bilk neth slon\n",
        "(6, 6, 3)    paal side toed\n",
        "(4, 3, 0)    node sant teal\n",
        "(2, 4, 0)    biod musk slat\n",
        "(6, 0, 9)    brae lull siss\n",
        "(6, 7, 5)    pace redd took\n",
        "(7, 2, 4)    jarl rite sold\n",
        "(2, 5, 8)    birn dose laet\n",
        "(3, 8, 7)    boll less tarr\n",
        "(1, 3, 6)    beet diol morn\n",
        "(6, 8, 2)    reel sion tore\n",
        "(1, 0, 0)    bead dich nane\n",
        "(2, 3, 7)    doon mure thar\n",
        "(8, 6, 4)    malt pian sudd\n",
        "(8, 3, 2)    jess roll sunn\n",
        "(9, 6, 5)    jinn mell trek\n",
        "(6, 3, 9)    bree paty toat\n",
        "(3, 1, 2)    bock lend tale\n",
        "(4, 9, 6)    bunt pled sark\n",
        "(6, 1, 0)    lunn parr toll\n",
        "(5, 7, 1)    byth lore seel\n",
        "(4, 5, 6)    burt lier sack\n",
        "(5, 4, 5)    rand seah tick\n",
        "(1, 7, 7)    mone nast stey\n",
        "(6, 5, 2)    pant real tode\n",
        "(7, 9, 0)    jady peer sort\n",
        "(9, 1, 8)    dade meed pork\n",
        "(9, 7, 1)    dalk meny tron\n",
        "(2, 3, 1)    dook lace than\n",
        "(2, 4, 5)    bios lady neer\n",
        "(6, 8, 1)    reet siol torn\n",
        "(1, 4, 8)    dire nael star\n",
        "(2, 7, 4)    lark munt sled\n",
        "(0, 7, 8)    dele mind puck\n",
        "(3, 8, 2)    bolk duny tare\n",
        "(6, 3, 3)    brey sine toad\n",
        "(1, 0, 7)    beal mode nant\n",
        "(9, 7, 8)    dale mend pock\n",
        "(0, 5, 2)    bark punt ryal\n",
        "(3, 2, 3)    body duer nick\n",
        "(2, 6, 2)    doty prat thee\n",
        "(2, 5, 4)    birr doss mutt\n",
        "(8, 2, 4)    jerl rote suld\n",
        "(1, 6, 3)    junt nark pyal\n",
        "(4, 3, 3)    lich sane tead\n",
        "(8, 5, 5)    pine road such\n",
        "(2, 7, 6)    bitt doll ness\n",
        "(6, 3, 5)    lucy pate sinh\n",
        "(8, 5, 9)    math piny roar\n",
        "(5, 4, 1)    lode rant seal\n",
        "(8, 7, 8)    mand pick suer\n",
        "(8, 7, 5)    jean pice rodd\n",
        "(0, 5, 4)    dess joll mitt\n",
        "(6, 5, 6)    pand sick tody\n",
        "(3, 4, 7)    bool durn shay\n",
        "(8, 9, 7)    dhan mace rook\n",
        "(6, 4, 5)    pale rend tock\n",
        "(7, 8, 1)    lyse sool turn\n",
        "(2, 9, 9)    bine much prey\n"
       ]
      }
     ],
     "prompt_number": 47
    },
    {
     "cell_type": "code",
     "collapsed": false,
     "input": [],
     "language": "python",
     "metadata": {},
     "outputs": []
    }
   ],
   "metadata": {}
  }
 ]
}